{
 "cells": [
  {
   "cell_type": "markdown",
   "metadata": {},
   "source": [
    "# Introduction"
   ]
  },
  {
   "cell_type": "markdown",
   "metadata": {},
   "source": [
    "## The ultimate Soccer database for data analysis and machine learning\n",
    "### What you get:\n",
    "\n",
    "- +25,000 matches\n",
    "- +10,000 players\n",
    "- 11 European Countries with their lead championship\n",
    "- Seasons 2008 to 2016\n",
    "- Players and Teams' attributes* sourced from EA Sports' FIFA video game series, including the weekly updates\n",
    "- Team line up with squad formation (X, Y coordinates)\n",
    "- Betting odds from up to 10 providers\n",
    "- Detailed match events (goal types, possession, corner, cross, fouls, cards etc…) for +10,000 matches"
   ]
  },
  {
   "cell_type": "markdown",
   "metadata": {},
   "source": [
    "# Questions \n",
    "- What is the nuber of matchs in each league?\n",
    "- What is the nuber of matchs in each season?\n",
    "- Which player had the most penalties?\n",
    "- What is the most age of players?\n",
    "- What the range of height and weight distribution?\n",
    "- Which foot is preferred bu players?\n",
    "- What the the budget of each team?\n",
    "- What is the salary of players?"
   ]
  },
  {
   "cell_type": "markdown",
   "metadata": {},
   "source": [
    "# 1-Importing  libraries"
   ]
  },
  {
   "cell_type": "code",
   "execution_count": 21,
   "metadata": {},
   "outputs": [],
   "source": [
    "import pandas as pd\n",
    "import numpy as np\n",
    "import sqlite3\n",
    "from datetime import datetime, date\n",
    "import matplotlib.pyplot as plt\n",
    "import seaborn as sns"
   ]
  },
  {
   "cell_type": "code",
   "execution_count": 78,
   "metadata": {},
   "outputs": [],
   "source": [
    "# Asses function get information ,describtion and ccount nan values\n",
    "def assess_table(table_name):\n",
    "    print('First three rows of table',table_name.head(3))  \n",
    "    print('\\nThe information of table\\n',table_name.info())\n",
    "    print('\\nThe describtion of table\\n',table_name.describe())\n",
    "    print('\\nThe null count\\n',table_name.isnull().sum())\n",
    "    "
   ]
  },
  {
   "cell_type": "markdown",
   "metadata": {},
   "source": [
    "# 2-Gathering"
   ]
  },
  {
   "cell_type": "code",
   "execution_count": 23,
   "metadata": {},
   "outputs": [],
   "source": [
    "# Connect to database\n",
    "con = sqlite3.connect(\"C:/Users/mohammed/Desktop/Python/leaga/database.sqlite\")\n"
   ]
  },
  {
   "cell_type": "markdown",
   "metadata": {},
   "source": [
    "# 3-Assessing & Cleaning"
   ]
  },
  {
   "cell_type": "markdown",
   "metadata": {},
   "source": [
    "- Read sqlite query results into a pandas DataFrame\n",
    "- Get information about data\n",
    "- Make Summary Statistics\n",
    "- Fix findded issues\n"
   ]
  },
  {
   "cell_type": "markdown",
   "metadata": {},
   "source": [
    "------------------------------"
   ]
  },
  {
   "cell_type": "markdown",
   "metadata": {},
   "source": [
    "# Countries_table"
   ]
  },
  {
   "cell_type": "code",
   "execution_count": 79,
   "metadata": {},
   "outputs": [
    {
     "name": "stdout",
     "output_type": "stream",
     "text": [
      "First three rows of table      id     name\n",
      "0     1  Belgium\n",
      "1  1729  England\n",
      "2  4769   France\n",
      "<class 'pandas.core.frame.DataFrame'>\n",
      "RangeIndex: 11 entries, 0 to 10\n",
      "Data columns (total 2 columns):\n",
      " #   Column  Non-Null Count  Dtype \n",
      "---  ------  --------------  ----- \n",
      " 0   id      11 non-null     int64 \n",
      " 1   name    11 non-null     object\n",
      "dtypes: int64(1), object(1)\n",
      "memory usage: 304.0+ bytes\n",
      "\n",
      "The information of table\n",
      " None\n",
      "\n",
      "The describtion of table\n",
      "                  id\n",
      "count     11.000000\n",
      "mean   12452.090909\n",
      "std     8215.308472\n",
      "min        1.000000\n",
      "25%     6289.000000\n",
      "50%    13274.000000\n",
      "75%    18668.000000\n",
      "max    24558.000000\n",
      "\n",
      "The null count\n",
      " id      0\n",
      "name    0\n",
      "dtype: int64\n"
     ]
    }
   ],
   "source": [
    "countries = pd.read_sql_query(\"SELECT * from Country\", con)\n",
    "\n",
    "assess_table(countries)"
   ]
  },
  {
   "cell_type": "markdown",
   "metadata": {},
   "source": [
    "------------------------------"
   ]
  },
  {
   "cell_type": "markdown",
   "metadata": {},
   "source": [
    "# Leagues_table"
   ]
  },
  {
   "cell_type": "code",
   "execution_count": 80,
   "metadata": {},
   "outputs": [
    {
     "name": "stdout",
     "output_type": "stream",
     "text": [
      "First three rows of table      id  country_id                    name\n",
      "0     1           1  Belgium Jupiler League\n",
      "1  1729        1729  England Premier League\n",
      "2  4769        4769          France Ligue 1\n",
      "<class 'pandas.core.frame.DataFrame'>\n",
      "RangeIndex: 11 entries, 0 to 10\n",
      "Data columns (total 3 columns):\n",
      " #   Column      Non-Null Count  Dtype \n",
      "---  ------      --------------  ----- \n",
      " 0   id          11 non-null     int64 \n",
      " 1   country_id  11 non-null     int64 \n",
      " 2   name        11 non-null     object\n",
      "dtypes: int64(2), object(1)\n",
      "memory usage: 392.0+ bytes\n",
      "\n",
      "The information of table\n",
      " None\n",
      "\n",
      "The describtion of table\n",
      "                  id    country_id\n",
      "count     11.000000     11.000000\n",
      "mean   12452.090909  12452.090909\n",
      "std     8215.308472   8215.308472\n",
      "min        1.000000      1.000000\n",
      "25%     6289.000000   6289.000000\n",
      "50%    13274.000000  13274.000000\n",
      "75%    18668.000000  18668.000000\n",
      "max    24558.000000  24558.000000\n",
      "\n",
      "The null count\n",
      " id            0\n",
      "country_id    0\n",
      "name          0\n",
      "dtype: int64\n"
     ]
    }
   ],
   "source": [
    "leagues = pd.read_sql_query(\"SELECT * from League\", con)\n",
    "\n",
    "assess_table(leagues)"
   ]
  },
  {
   "cell_type": "markdown",
   "metadata": {},
   "source": [
    "------------------------------"
   ]
  },
  {
   "cell_type": "markdown",
   "metadata": {},
   "source": [
    "# Matchs_table"
   ]
  },
  {
   "cell_type": "code",
   "execution_count": 81,
   "metadata": {},
   "outputs": [
    {
     "name": "stdout",
     "output_type": "stream",
     "text": [
      "First three rows of table    id  country_id  league_id     season  stage                 date  \\\n",
      "0   1           1          1  2008/2009      1  2008-08-17 00:00:00   \n",
      "1   2           1          1  2008/2009      1  2008-08-16 00:00:00   \n",
      "2   3           1          1  2008/2009      1  2008-08-16 00:00:00   \n",
      "\n",
      "   match_api_id  home_team_api_id  away_team_api_id  home_team_goal  ...  SJA  \\\n",
      "0        492473              9987              9993               1  ...  4.0   \n",
      "1        492474             10000              9994               0  ...  3.8   \n",
      "2        492475              9984              8635               0  ...  2.5   \n",
      "\n",
      "    VCH   VCD   VCA   GBH   GBD   GBA   BSH   BSD   BSA  \n",
      "0  1.65  3.40  4.50  1.78  3.25  4.00  1.73  3.40  4.20  \n",
      "1  2.00  3.25  3.25  1.85  3.25  3.75  1.91  3.25  3.60  \n",
      "2  2.35  3.25  2.65  2.50  3.20  2.50  2.30  3.20  2.75  \n",
      "\n",
      "[3 rows x 115 columns]\n",
      "<class 'pandas.core.frame.DataFrame'>\n",
      "RangeIndex: 25979 entries, 0 to 25978\n",
      "Columns: 115 entries, id to BSA\n",
      "dtypes: float64(96), int64(9), object(10)\n",
      "memory usage: 22.8+ MB\n",
      "\n",
      "The information of table\n",
      " None\n",
      "\n",
      "The describtion of table\n",
      "                  id    country_id     league_id         stage  match_api_id  \\\n",
      "count  25979.000000  25979.000000  25979.000000  25979.000000  2.597900e+04   \n",
      "mean   12990.000000  11738.630317  11738.630317     18.242773  1.195429e+06   \n",
      "std     7499.635658   7553.936759   7553.936759     10.407354  4.946279e+05   \n",
      "min        1.000000      1.000000      1.000000      1.000000  4.831290e+05   \n",
      "25%     6495.500000   4769.000000   4769.000000      9.000000  7.684365e+05   \n",
      "50%    12990.000000  10257.000000  10257.000000     18.000000  1.147511e+06   \n",
      "75%    19484.500000  17642.000000  17642.000000     27.000000  1.709852e+06   \n",
      "max    25979.000000  24558.000000  24558.000000     38.000000  2.216672e+06   \n",
      "\n",
      "       home_team_api_id  away_team_api_id  home_team_goal  away_team_goal  \\\n",
      "count      25979.000000      25979.000000    25979.000000    25979.000000   \n",
      "mean        9984.371993       9984.475115        1.544594        1.160938   \n",
      "std        14087.453758      14087.445135        1.297158        1.142110   \n",
      "min         1601.000000       1601.000000        0.000000        0.000000   \n",
      "25%         8475.000000       8475.000000        1.000000        0.000000   \n",
      "50%         8697.000000       8697.000000        1.000000        1.000000   \n",
      "75%         9925.000000       9925.000000        2.000000        2.000000   \n",
      "max       274581.000000     274581.000000       10.000000        9.000000   \n",
      "\n",
      "       home_player_X1  ...           SJA           VCH           VCD  \\\n",
      "count    24158.000000  ...  17097.000000  22568.000000  22568.000000   \n",
      "mean         0.999586  ...      4.622343      2.668107      3.899048   \n",
      "std          0.022284  ...      3.632164      1.928753      1.248221   \n",
      "min          0.000000  ...      1.100000      1.030000      1.620000   \n",
      "25%          1.000000  ...      2.500000      1.700000      3.300000   \n",
      "50%          1.000000  ...      3.500000      2.150000      3.500000   \n",
      "75%          1.000000  ...      5.250000      2.800000      4.000000   \n",
      "max          2.000000  ...     41.000000     36.000000     26.000000   \n",
      "\n",
      "                VCA           GBH           GBD           GBA           BSH  \\\n",
      "count  22568.000000  14162.000000  14162.000000  14162.000000  14161.000000   \n",
      "mean       4.840281      2.498764      3.648189      4.353097      2.497894   \n",
      "std        4.318338      1.489299      0.867440      3.010189      1.507793   \n",
      "min        1.080000      1.050000      1.450000      1.120000      1.040000   \n",
      "25%        2.550000      1.670000      3.200000      2.500000      1.670000   \n",
      "50%        3.500000      2.100000      3.300000      3.400000      2.100000   \n",
      "75%        5.400000      2.650000      3.750000      5.000000      2.620000   \n",
      "max       67.000000     21.000000     11.000000     34.000000     17.000000   \n",
      "\n",
      "                BSD           BSA  \n",
      "count  14161.000000  14161.000000  \n",
      "mean       3.660742      4.405663  \n",
      "std        0.868272      3.189814  \n",
      "min        1.330000      1.120000  \n",
      "25%        3.250000      2.500000  \n",
      "50%        3.400000      3.400000  \n",
      "75%        3.750000      5.000000  \n",
      "max       13.000000     34.000000  \n",
      "\n",
      "[8 rows x 105 columns]\n",
      "\n",
      "The null count\n",
      " id                0\n",
      "country_id        0\n",
      "league_id         0\n",
      "season            0\n",
      "stage             0\n",
      "              ...  \n",
      "GBD           11817\n",
      "GBA           11817\n",
      "BSH           11818\n",
      "BSD           11818\n",
      "BSA           11818\n",
      "Length: 115, dtype: int64\n"
     ]
    }
   ],
   "source": [
    "matchs = pd.read_sql_query(\"SELECT * from Match\", con)\n",
    "assess_table(matchs)"
   ]
  },
  {
   "cell_type": "code",
   "execution_count": 82,
   "metadata": {},
   "outputs": [
    {
     "data": {
      "text/plain": [
       "dtype('O')"
      ]
     },
     "execution_count": 82,
     "metadata": {},
     "output_type": "execute_result"
    }
   ],
   "source": [
    "matchs.date.dtypes"
   ]
  },
  {
   "cell_type": "code",
   "execution_count": 83,
   "metadata": {},
   "outputs": [
    {
     "data": {
      "text/plain": [
       "2008/2009    3326\n",
       "2015/2016    3326\n",
       "2014/2015    3325\n",
       "2012/2013    3260\n",
       "2010/2011    3260\n",
       "2009/2010    3230\n",
       "2011/2012    3220\n",
       "2013/2014    3032\n",
       "Name: season, dtype: int64"
      ]
     },
     "execution_count": 83,
     "metadata": {},
     "output_type": "execute_result"
    }
   ],
   "source": [
    "matchs.season.value_counts()"
   ]
  },
  {
   "cell_type": "code",
   "execution_count": 84,
   "metadata": {},
   "outputs": [
    {
     "data": {
      "text/plain": [
       "1     8400\n",
       "2     6339\n",
       "0     5896\n",
       "3     3288\n",
       "4     1385\n",
       "5      457\n",
       "6      161\n",
       "7       38\n",
       "8        9\n",
       "9        4\n",
       "10       2\n",
       "Name: home_team_goal, dtype: int64"
      ]
     },
     "execution_count": 84,
     "metadata": {},
     "output_type": "execute_result"
    }
   ],
   "source": [
    "matchs.home_team_goal.value_counts()"
   ]
  },
  {
   "cell_type": "code",
   "execution_count": 85,
   "metadata": {},
   "outputs": [
    {
     "data": {
      "text/plain": [
       "1    8989\n",
       "0    8687\n",
       "2    5146\n",
       "3    2145\n",
       "4     718\n",
       "5     215\n",
       "6      63\n",
       "7      10\n",
       "8       5\n",
       "9       1\n",
       "Name: away_team_goal, dtype: int64"
      ]
     },
     "execution_count": 85,
     "metadata": {},
     "output_type": "execute_result"
    }
   ],
   "source": [
    "matchs.away_team_goal.value_counts()"
   ]
  },
  {
   "cell_type": "markdown",
   "metadata": {},
   "source": [
    "## Clean\n",
    "- drop not needed columns\n",
    "- convert Date column to datetype"
   ]
  },
  {
   "cell_type": "code",
   "execution_count": 86,
   "metadata": {},
   "outputs": [],
   "source": [
    "#make a copy of table\n",
    "matchs_clean = matchs.copy()"
   ]
  },
  {
   "cell_type": "code",
   "execution_count": 88,
   "metadata": {},
   "outputs": [
    {
     "name": "stdout",
     "output_type": "stream",
     "text": [
      "id                  0\n",
      "country_id          0\n",
      "league_id           0\n",
      "season              0\n",
      "stage               0\n",
      "date                0\n",
      "match_api_id        0\n",
      "home_team_api_id    0\n",
      "away_team_api_id    0\n",
      "home_team_goal      0\n",
      "away_team_goal      0\n",
      "dtype: int64\n"
     ]
    }
   ],
   "source": [
    "print(matchs_clean.isnull().sum())"
   ]
  },
  {
   "cell_type": "code",
   "execution_count": 87,
   "metadata": {},
   "outputs": [
    {
     "data": {
      "text/plain": [
       "<bound method NDFrame.head of           id  country_id  league_id     season  stage                 date  \\\n",
       "0          1           1          1  2008/2009      1  2008-08-17 00:00:00   \n",
       "1          2           1          1  2008/2009      1  2008-08-16 00:00:00   \n",
       "2          3           1          1  2008/2009      1  2008-08-16 00:00:00   \n",
       "3          4           1          1  2008/2009      1  2008-08-17 00:00:00   \n",
       "4          5           1          1  2008/2009      1  2008-08-16 00:00:00   \n",
       "...      ...         ...        ...        ...    ...                  ...   \n",
       "25974  25975       24558      24558  2015/2016      9  2015-09-22 00:00:00   \n",
       "25975  25976       24558      24558  2015/2016      9  2015-09-23 00:00:00   \n",
       "25976  25977       24558      24558  2015/2016      9  2015-09-23 00:00:00   \n",
       "25977  25978       24558      24558  2015/2016      9  2015-09-22 00:00:00   \n",
       "25978  25979       24558      24558  2015/2016      9  2015-09-23 00:00:00   \n",
       "\n",
       "       match_api_id  home_team_api_id  away_team_api_id  home_team_goal  \\\n",
       "0            492473              9987              9993               1   \n",
       "1            492474             10000              9994               0   \n",
       "2            492475              9984              8635               0   \n",
       "3            492476              9991              9998               5   \n",
       "4            492477              7947              9985               1   \n",
       "...             ...               ...               ...             ...   \n",
       "25974       1992091             10190             10191               1   \n",
       "25975       1992092              9824             10199               1   \n",
       "25976       1992093              9956             10179               2   \n",
       "25977       1992094              7896             10243               0   \n",
       "25978       1992095             10192              9931               4   \n",
       "\n",
       "       away_team_goal  \n",
       "0                   1  \n",
       "1                   0  \n",
       "2                   3  \n",
       "3                   0  \n",
       "4                   3  \n",
       "...               ...  \n",
       "25974               0  \n",
       "25975               2  \n",
       "25976               0  \n",
       "25977               0  \n",
       "25978               3  \n",
       "\n",
       "[25979 rows x 11 columns]>"
      ]
     },
     "execution_count": 87,
     "metadata": {},
     "output_type": "execute_result"
    }
   ],
   "source": [
    "#drop not needed columns\n",
    "matchs_clean.drop(matchs_clean.iloc[:, 11:], axis = 1, inplace = True)\n",
    "matchs_clean.head"
   ]
  },
  {
   "cell_type": "code",
   "execution_count": 89,
   "metadata": {},
   "outputs": [
    {
     "name": "stdout",
     "output_type": "stream",
     "text": [
      "<class 'pandas.core.frame.DataFrame'>\n",
      "RangeIndex: 25979 entries, 0 to 25978\n",
      "Data columns (total 11 columns):\n",
      " #   Column            Non-Null Count  Dtype         \n",
      "---  ------            --------------  -----         \n",
      " 0   id                25979 non-null  int64         \n",
      " 1   country_id        25979 non-null  int64         \n",
      " 2   league_id         25979 non-null  int64         \n",
      " 3   season            25979 non-null  object        \n",
      " 4   stage             25979 non-null  int64         \n",
      " 5   date              25979 non-null  datetime64[ns]\n",
      " 6   match_api_id      25979 non-null  int64         \n",
      " 7   home_team_api_id  25979 non-null  int64         \n",
      " 8   away_team_api_id  25979 non-null  int64         \n",
      " 9   home_team_goal    25979 non-null  int64         \n",
      " 10  away_team_goal    25979 non-null  int64         \n",
      "dtypes: datetime64[ns](1), int64(9), object(1)\n",
      "memory usage: 2.2+ MB\n"
     ]
    }
   ],
   "source": [
    "#convert Date column to datetype\n",
    "matchs_clean['date'] = pd.to_datetime(matchs_clean['date'])\n",
    "matchs_clean.info()"
   ]
  },
  {
   "cell_type": "markdown",
   "metadata": {},
   "source": [
    "------------------------------"
   ]
  },
  {
   "cell_type": "markdown",
   "metadata": {},
   "source": [
    "# Teams_table"
   ]
  },
  {
   "cell_type": "code",
   "execution_count": 90,
   "metadata": {},
   "outputs": [
    {
     "name": "stdout",
     "output_type": "stream",
     "text": [
      "First three rows of table    id  team_api_id  team_fifa_api_id    team_long_name team_short_name\n",
      "0   1         9987             673.0          KRC Genk             GEN\n",
      "1   2         9993             675.0      Beerschot AC             BAC\n",
      "2   3        10000           15005.0  SV Zulte-Waregem             ZUL\n",
      "<class 'pandas.core.frame.DataFrame'>\n",
      "RangeIndex: 299 entries, 0 to 298\n",
      "Data columns (total 5 columns):\n",
      " #   Column            Non-Null Count  Dtype  \n",
      "---  ------            --------------  -----  \n",
      " 0   id                299 non-null    int64  \n",
      " 1   team_api_id       299 non-null    int64  \n",
      " 2   team_fifa_api_id  288 non-null    float64\n",
      " 3   team_long_name    299 non-null    object \n",
      " 4   team_short_name   299 non-null    object \n",
      "dtypes: float64(1), int64(2), object(2)\n",
      "memory usage: 11.8+ KB\n",
      "\n",
      "The information of table\n",
      " None\n",
      "\n",
      "The describtion of table\n",
      "                  id    team_api_id  team_fifa_api_id\n",
      "count    299.000000     299.000000        288.000000\n",
      "mean   23735.301003   12340.521739      21534.305556\n",
      "std    15167.914719   25940.411135      42456.439408\n",
      "min        1.000000    1601.000000          1.000000\n",
      "25%     9552.500000    8349.000000        178.750000\n",
      "50%    22805.000000    8655.000000        673.500000\n",
      "75%    36250.500000    9886.500000       1910.750000\n",
      "max    51606.000000  274581.000000     112513.000000\n",
      "\n",
      "The null count\n",
      " id                   0\n",
      "team_api_id          0\n",
      "team_fifa_api_id    11\n",
      "team_long_name       0\n",
      "team_short_name      0\n",
      "dtype: int64\n"
     ]
    }
   ],
   "source": [
    "teams = pd.read_sql_query(\"SELECT * from Team\", con)\n",
    "assess_table(teams)"
   ]
  },
  {
   "cell_type": "markdown",
   "metadata": {},
   "source": [
    "## Clean\n",
    "- The colunmm (team_fifa_api_id) of teams has missing values.\n"
   ]
  },
  {
   "cell_type": "markdown",
   "metadata": {},
   "source": [
    "------------------------------"
   ]
  },
  {
   "cell_type": "markdown",
   "metadata": {},
   "source": [
    "# Team_Attributes_table"
   ]
  },
  {
   "cell_type": "code",
   "execution_count": 91,
   "metadata": {},
   "outputs": [
    {
     "name": "stdout",
     "output_type": "stream",
     "text": [
      "First three rows of table    id  team_fifa_api_id  team_api_id                 date  buildUpPlaySpeed  \\\n",
      "0   1               434         9930  2010-02-22 00:00:00                60   \n",
      "1   2               434         9930  2014-09-19 00:00:00                52   \n",
      "2   3               434         9930  2015-09-10 00:00:00                47   \n",
      "\n",
      "  buildUpPlaySpeedClass  buildUpPlayDribbling buildUpPlayDribblingClass  \\\n",
      "0              Balanced                   NaN                    Little   \n",
      "1              Balanced                  48.0                    Normal   \n",
      "2              Balanced                  41.0                    Normal   \n",
      "\n",
      "   buildUpPlayPassing buildUpPlayPassingClass  ... chanceCreationShooting  \\\n",
      "0                  50                   Mixed  ...                     55   \n",
      "1                  56                   Mixed  ...                     64   \n",
      "2                  54                   Mixed  ...                     64   \n",
      "\n",
      "   chanceCreationShootingClass chanceCreationPositioningClass  \\\n",
      "0                       Normal                      Organised   \n",
      "1                       Normal                      Organised   \n",
      "2                       Normal                      Organised   \n",
      "\n",
      "   defencePressure defencePressureClass  defenceAggression  \\\n",
      "0               50               Medium                 55   \n",
      "1               47               Medium                 44   \n",
      "2               47               Medium                 44   \n",
      "\n",
      "  defenceAggressionClass defenceTeamWidth  defenceTeamWidthClass  \\\n",
      "0                  Press               45                 Normal   \n",
      "1                  Press               54                 Normal   \n",
      "2                  Press               54                 Normal   \n",
      "\n",
      "  defenceDefenderLineClass  \n",
      "0                    Cover  \n",
      "1                    Cover  \n",
      "2                    Cover  \n",
      "\n",
      "[3 rows x 25 columns]\n",
      "<class 'pandas.core.frame.DataFrame'>\n",
      "RangeIndex: 1458 entries, 0 to 1457\n",
      "Data columns (total 25 columns):\n",
      " #   Column                          Non-Null Count  Dtype  \n",
      "---  ------                          --------------  -----  \n",
      " 0   id                              1458 non-null   int64  \n",
      " 1   team_fifa_api_id                1458 non-null   int64  \n",
      " 2   team_api_id                     1458 non-null   int64  \n",
      " 3   date                            1458 non-null   object \n",
      " 4   buildUpPlaySpeed                1458 non-null   int64  \n",
      " 5   buildUpPlaySpeedClass           1458 non-null   object \n",
      " 6   buildUpPlayDribbling            489 non-null    float64\n",
      " 7   buildUpPlayDribblingClass       1458 non-null   object \n",
      " 8   buildUpPlayPassing              1458 non-null   int64  \n",
      " 9   buildUpPlayPassingClass         1458 non-null   object \n",
      " 10  buildUpPlayPositioningClass     1458 non-null   object \n",
      " 11  chanceCreationPassing           1458 non-null   int64  \n",
      " 12  chanceCreationPassingClass      1458 non-null   object \n",
      " 13  chanceCreationCrossing          1458 non-null   int64  \n",
      " 14  chanceCreationCrossingClass     1458 non-null   object \n",
      " 15  chanceCreationShooting          1458 non-null   int64  \n",
      " 16  chanceCreationShootingClass     1458 non-null   object \n",
      " 17  chanceCreationPositioningClass  1458 non-null   object \n",
      " 18  defencePressure                 1458 non-null   int64  \n",
      " 19  defencePressureClass            1458 non-null   object \n",
      " 20  defenceAggression               1458 non-null   int64  \n",
      " 21  defenceAggressionClass          1458 non-null   object \n",
      " 22  defenceTeamWidth                1458 non-null   int64  \n",
      " 23  defenceTeamWidthClass           1458 non-null   object \n",
      " 24  defenceDefenderLineClass        1458 non-null   object \n",
      "dtypes: float64(1), int64(11), object(13)\n",
      "memory usage: 284.9+ KB\n",
      "\n",
      "The information of table\n",
      " None\n",
      "\n",
      "The describtion of table\n",
      "                 id  team_fifa_api_id    team_api_id  buildUpPlaySpeed  \\\n",
      "count  1458.000000       1458.000000    1458.000000       1458.000000   \n",
      "mean    729.500000      17706.982167    9995.727023         52.462277   \n",
      "std     421.032659      39179.857739   13264.869900         11.545869   \n",
      "min       1.000000          1.000000    1601.000000         20.000000   \n",
      "25%     365.250000        110.000000    8457.750000         45.000000   \n",
      "50%     729.500000        485.000000    8674.000000         52.000000   \n",
      "75%    1093.750000       1900.000000    9904.000000         62.000000   \n",
      "max    1458.000000     112513.000000  274581.000000         80.000000   \n",
      "\n",
      "       buildUpPlayDribbling  buildUpPlayPassing  chanceCreationPassing  \\\n",
      "count            489.000000         1458.000000            1458.000000   \n",
      "mean              48.607362           48.490398              52.165295   \n",
      "std                9.678290           10.896101              10.360793   \n",
      "min               24.000000           20.000000              21.000000   \n",
      "25%               42.000000           40.000000              46.000000   \n",
      "50%               49.000000           50.000000              52.000000   \n",
      "75%               55.000000           55.000000              59.000000   \n",
      "max               77.000000           80.000000              80.000000   \n",
      "\n",
      "       chanceCreationCrossing  chanceCreationShooting  defencePressure  \\\n",
      "count             1458.000000             1458.000000      1458.000000   \n",
      "mean                53.731824               53.969136        46.017147   \n",
      "std                 11.086796               10.327566        10.227225   \n",
      "min                 20.000000               22.000000        23.000000   \n",
      "25%                 47.000000               48.000000        39.000000   \n",
      "50%                 53.000000               53.000000        45.000000   \n",
      "75%                 62.000000               61.000000        51.000000   \n",
      "max                 80.000000               80.000000        72.000000   \n",
      "\n",
      "       defenceAggression  defenceTeamWidth  \n",
      "count        1458.000000       1458.000000  \n",
      "mean           49.251029         52.185871  \n",
      "std             9.738028          9.574712  \n",
      "min            24.000000         29.000000  \n",
      "25%            44.000000         47.000000  \n",
      "50%            48.000000         52.000000  \n",
      "75%            55.000000         58.000000  \n",
      "max            72.000000         73.000000  \n",
      "\n",
      "The null count\n",
      " id                                  0\n",
      "team_fifa_api_id                    0\n",
      "team_api_id                         0\n",
      "date                                0\n",
      "buildUpPlaySpeed                    0\n",
      "buildUpPlaySpeedClass               0\n",
      "buildUpPlayDribbling              969\n",
      "buildUpPlayDribblingClass           0\n",
      "buildUpPlayPassing                  0\n",
      "buildUpPlayPassingClass             0\n",
      "buildUpPlayPositioningClass         0\n",
      "chanceCreationPassing               0\n",
      "chanceCreationPassingClass          0\n",
      "chanceCreationCrossing              0\n",
      "chanceCreationCrossingClass         0\n",
      "chanceCreationShooting              0\n",
      "chanceCreationShootingClass         0\n",
      "chanceCreationPositioningClass      0\n",
      "defencePressure                     0\n",
      "defencePressureClass                0\n",
      "defenceAggression                   0\n",
      "defenceAggressionClass              0\n",
      "defenceTeamWidth                    0\n",
      "defenceTeamWidthClass               0\n",
      "defenceDefenderLineClass            0\n",
      "dtype: int64\n"
     ]
    }
   ],
   "source": [
    "team_attributes = pd.read_sql_query(\"SELECT * from Team_Attributes\",con)\n",
    "assess_table(team_attributes)"
   ]
  },
  {
   "cell_type": "code",
   "execution_count": 92,
   "metadata": {},
   "outputs": [
    {
     "data": {
      "text/plain": [
       "80"
      ]
     },
     "execution_count": 92,
     "metadata": {},
     "output_type": "execute_result"
    }
   ],
   "source": [
    "team_attributes.buildUpPlaySpeed.max()"
   ]
  },
  {
   "cell_type": "code",
   "execution_count": 93,
   "metadata": {},
   "outputs": [
    {
     "data": {
      "text/plain": [
       "50    96\n",
       "30    70\n",
       "55    67\n",
       "45    66\n",
       "65    64\n",
       "70    63\n",
       "52    62\n",
       "60    59\n",
       "48    53\n",
       "53    47\n",
       "47    42\n",
       "49    40\n",
       "54    39\n",
       "35    39\n",
       "67    39\n",
       "58    38\n",
       "66    38\n",
       "46    38\n",
       "64    37\n",
       "63    36\n",
       "40    33\n",
       "59    29\n",
       "38    27\n",
       "61    26\n",
       "57    26\n",
       "51    24\n",
       "56    24\n",
       "62    24\n",
       "68    22\n",
       "42    18\n",
       "41    18\n",
       "44    15\n",
       "69    13\n",
       "36    13\n",
       "34    12\n",
       "43    12\n",
       "39    12\n",
       "37    10\n",
       "33     9\n",
       "75     8\n",
       "73     7\n",
       "72     6\n",
       "71     6\n",
       "31     4\n",
       "25     4\n",
       "24     3\n",
       "32     3\n",
       "20     3\n",
       "76     3\n",
       "78     2\n",
       "29     2\n",
       "26     2\n",
       "74     1\n",
       "28     1\n",
       "77     1\n",
       "23     1\n",
       "80     1\n",
       "Name: buildUpPlaySpeed, dtype: int64"
      ]
     },
     "execution_count": 93,
     "metadata": {},
     "output_type": "execute_result"
    }
   ],
   "source": [
    "team_attributes.buildUpPlaySpeed.value_counts()"
   ]
  },
  {
   "cell_type": "code",
   "execution_count": 94,
   "metadata": {},
   "outputs": [
    {
     "data": {
      "text/plain": [
       "Organised    1309\n",
       "Free Form     149\n",
       "Name: chanceCreationPositioningClass, dtype: int64"
      ]
     },
     "execution_count": 94,
     "metadata": {},
     "output_type": "execute_result"
    }
   ],
   "source": [
    "team_attributes.chanceCreationPositioningClass.value_counts()"
   ]
  },
  {
   "cell_type": "markdown",
   "metadata": {},
   "source": [
    "## Clean\n",
    "- The colunmm (buildUpPlayDribbling) of team_attributes has missing values.\n",
    "- convert Date column to datetype"
   ]
  },
  {
   "cell_type": "code",
   "execution_count": 95,
   "metadata": {},
   "outputs": [],
   "source": [
    "# Make a copy of team_attributes\n",
    "team_attributes_clean = team_attributes"
   ]
  },
  {
   "cell_type": "code",
   "execution_count": 96,
   "metadata": {},
   "outputs": [],
   "source": [
    "# Replace non-values with the mean of column\n",
    "team_attributes_clean['buildUpPlayDribbling'].fillna((team_attributes_clean['buildUpPlayDribbling'].mean()), inplace=True)"
   ]
  },
  {
   "cell_type": "code",
   "execution_count": 97,
   "metadata": {},
   "outputs": [],
   "source": [
    "#convert Date column to datetype\n",
    "team_attributes_clean['date'] = pd.to_datetime(team_attributes_clean['date'])"
   ]
  },
  {
   "cell_type": "code",
   "execution_count": 98,
   "metadata": {},
   "outputs": [
    {
     "name": "stdout",
     "output_type": "stream",
     "text": [
      "<class 'pandas.core.frame.DataFrame'>\n",
      "RangeIndex: 1458 entries, 0 to 1457\n",
      "Data columns (total 25 columns):\n",
      " #   Column                          Non-Null Count  Dtype         \n",
      "---  ------                          --------------  -----         \n",
      " 0   id                              1458 non-null   int64         \n",
      " 1   team_fifa_api_id                1458 non-null   int64         \n",
      " 2   team_api_id                     1458 non-null   int64         \n",
      " 3   date                            1458 non-null   datetime64[ns]\n",
      " 4   buildUpPlaySpeed                1458 non-null   int64         \n",
      " 5   buildUpPlaySpeedClass           1458 non-null   object        \n",
      " 6   buildUpPlayDribbling            1458 non-null   float64       \n",
      " 7   buildUpPlayDribblingClass       1458 non-null   object        \n",
      " 8   buildUpPlayPassing              1458 non-null   int64         \n",
      " 9   buildUpPlayPassingClass         1458 non-null   object        \n",
      " 10  buildUpPlayPositioningClass     1458 non-null   object        \n",
      " 11  chanceCreationPassing           1458 non-null   int64         \n",
      " 12  chanceCreationPassingClass      1458 non-null   object        \n",
      " 13  chanceCreationCrossing          1458 non-null   int64         \n",
      " 14  chanceCreationCrossingClass     1458 non-null   object        \n",
      " 15  chanceCreationShooting          1458 non-null   int64         \n",
      " 16  chanceCreationShootingClass     1458 non-null   object        \n",
      " 17  chanceCreationPositioningClass  1458 non-null   object        \n",
      " 18  defencePressure                 1458 non-null   int64         \n",
      " 19  defencePressureClass            1458 non-null   object        \n",
      " 20  defenceAggression               1458 non-null   int64         \n",
      " 21  defenceAggressionClass          1458 non-null   object        \n",
      " 22  defenceTeamWidth                1458 non-null   int64         \n",
      " 23  defenceTeamWidthClass           1458 non-null   object        \n",
      " 24  defenceDefenderLineClass        1458 non-null   object        \n",
      "dtypes: datetime64[ns](1), float64(1), int64(11), object(12)\n",
      "memory usage: 284.9+ KB\n"
     ]
    }
   ],
   "source": [
    "team_attributes_clean.info()"
   ]
  },
  {
   "cell_type": "markdown",
   "metadata": {},
   "source": [
    "------------------------------"
   ]
  },
  {
   "cell_type": "markdown",
   "metadata": {},
   "source": [
    "# Player_Table"
   ]
  },
  {
   "cell_type": "code",
   "execution_count": 99,
   "metadata": {},
   "outputs": [
    {
     "name": "stdout",
     "output_type": "stream",
     "text": [
      "First three rows of table    id  player_api_id         player_name  player_fifa_api_id  \\\n",
      "0   1         505942  Aaron Appindangoye              218353   \n",
      "1   2         155782     Aaron Cresswell              189615   \n",
      "2   3         162549         Aaron Doran              186170   \n",
      "\n",
      "              birthday  height  weight  \n",
      "0  1992-02-29 00:00:00  182.88     187  \n",
      "1  1989-12-15 00:00:00  170.18     146  \n",
      "2  1991-05-13 00:00:00  170.18     163  \n",
      "<class 'pandas.core.frame.DataFrame'>\n",
      "RangeIndex: 11060 entries, 0 to 11059\n",
      "Data columns (total 7 columns):\n",
      " #   Column              Non-Null Count  Dtype  \n",
      "---  ------              --------------  -----  \n",
      " 0   id                  11060 non-null  int64  \n",
      " 1   player_api_id       11060 non-null  int64  \n",
      " 2   player_name         11060 non-null  object \n",
      " 3   player_fifa_api_id  11060 non-null  int64  \n",
      " 4   birthday            11060 non-null  object \n",
      " 5   height              11060 non-null  float64\n",
      " 6   weight              11060 non-null  int64  \n",
      "dtypes: float64(1), int64(4), object(2)\n",
      "memory usage: 605.0+ KB\n",
      "\n",
      "The information of table\n",
      " None\n",
      "\n",
      "The describtion of table\n",
      "                  id  player_api_id  player_fifa_api_id        height  \\\n",
      "count  11060.000000   11060.000000        11060.000000  11060.000000   \n",
      "mean    5537.511392  156582.427215       165664.910488    181.867445   \n",
      "std     3197.692647  160713.700624        58649.928360      6.369201   \n",
      "min        1.000000    2625.000000            2.000000    157.480000   \n",
      "25%     2767.750000   35555.500000       151889.500000    177.800000   \n",
      "50%     5536.500000   96619.500000       184671.000000    182.880000   \n",
      "75%     8306.250000  212470.500000       203883.250000    185.420000   \n",
      "max    11075.000000  750584.000000       234141.000000    208.280000   \n",
      "\n",
      "             weight  \n",
      "count  11060.000000  \n",
      "mean     168.380289  \n",
      "std       14.990217  \n",
      "min      117.000000  \n",
      "25%      159.000000  \n",
      "50%      168.000000  \n",
      "75%      179.000000  \n",
      "max      243.000000  \n",
      "\n",
      "The null count\n",
      " id                    0\n",
      "player_api_id         0\n",
      "player_name           0\n",
      "player_fifa_api_id    0\n",
      "birthday              0\n",
      "height                0\n",
      "weight                0\n",
      "dtype: int64\n"
     ]
    }
   ],
   "source": [
    "player = pd.read_sql_query(\"SELECT * from Player\",con)\n",
    "assess_table(player)"
   ]
  },
  {
   "cell_type": "code",
   "execution_count": 100,
   "metadata": {},
   "outputs": [
    {
     "name": "stdout",
     "output_type": "stream",
     "text": [
      "             height        weight\n",
      "count  11060.000000  11060.000000\n",
      "mean     181.867445    168.380289\n",
      "std        6.369201     14.990217\n",
      "min      157.480000    117.000000\n",
      "25%      177.800000    159.000000\n",
      "50%      182.880000    168.000000\n",
      "75%      185.420000    179.000000\n",
      "max      208.280000    243.000000\n"
     ]
    }
   ],
   "source": [
    "print(player[['height','weight']].describe())"
   ]
  },
  {
   "cell_type": "code",
   "execution_count": 101,
   "metadata": {},
   "outputs": [
    {
     "name": "stdout",
     "output_type": "stream",
     "text": [
      "The oldest player: 1967-01-23 00:00:00    The younger player: 1999-04-24 00:00:00\n"
     ]
    }
   ],
   "source": [
    "print(\"The oldest player:\",player['birthday'].min(),'  ',\"The younger player:\",player['birthday'].max())"
   ]
  },
  {
   "cell_type": "markdown",
   "metadata": {},
   "source": [
    "## Clean\n",
    "- Birthday need to convet to date type."
   ]
  },
  {
   "cell_type": "code",
   "execution_count": 102,
   "metadata": {},
   "outputs": [
    {
     "data": {
      "text/plain": [
       "28    802\n",
       "27    723\n",
       "29    722\n",
       "30    710\n",
       "25    699\n",
       "26    696\n",
       "24    643\n",
       "32    607\n",
       "31    593\n",
       "33    541\n",
       "23    529\n",
       "34    487\n",
       "35    475\n",
       "22    462\n",
       "36    434\n",
       "37    345\n",
       "21    331\n",
       "38    263\n",
       "20    234\n",
       "39    191\n",
       "40    156\n",
       "41    113\n",
       "19    103\n",
       "42     77\n",
       "43     43\n",
       "18     24\n",
       "44     22\n",
       "45     12\n",
       "46     12\n",
       "47      6\n",
       "17      3\n",
       "49      1\n",
       "48      1\n",
       "Name: age, dtype: int64"
      ]
     },
     "execution_count": 102,
     "metadata": {},
     "output_type": "execute_result"
    }
   ],
   "source": [
    "clean_player = player.copy()\n",
    "clean_player['birthday'] = pd.to_datetime(clean_player['birthday'])\n",
    "clean_player['age'] = (2016 - clean_player['birthday'].dt.year)\n",
    "clean_player['age'].value_counts()"
   ]
  },
  {
   "cell_type": "markdown",
   "metadata": {},
   "source": [
    "------------------------------"
   ]
  },
  {
   "cell_type": "markdown",
   "metadata": {},
   "source": [
    "# player_attributes_table"
   ]
  },
  {
   "cell_type": "code",
   "execution_count": 103,
   "metadata": {},
   "outputs": [
    {
     "name": "stdout",
     "output_type": "stream",
     "text": [
      "First three rows of table    id  player_fifa_api_id  player_api_id                 date  overall_rating  \\\n",
      "0   1              218353         505942  2016-02-18 00:00:00            67.0   \n",
      "1   2              218353         505942  2015-11-19 00:00:00            67.0   \n",
      "2   3              218353         505942  2015-09-21 00:00:00            62.0   \n",
      "\n",
      "   potential preferred_foot attacking_work_rate defensive_work_rate  crossing  \\\n",
      "0       71.0          right              medium              medium      49.0   \n",
      "1       71.0          right              medium              medium      49.0   \n",
      "2       66.0          right              medium              medium      49.0   \n",
      "\n",
      "   ...  vision  penalties  marking  standing_tackle  sliding_tackle  \\\n",
      "0  ...    54.0       48.0     65.0             69.0            69.0   \n",
      "1  ...    54.0       48.0     65.0             69.0            69.0   \n",
      "2  ...    54.0       48.0     65.0             66.0            69.0   \n",
      "\n",
      "   gk_diving  gk_handling  gk_kicking  gk_positioning  gk_reflexes  \n",
      "0        6.0         11.0        10.0             8.0          8.0  \n",
      "1        6.0         11.0        10.0             8.0          8.0  \n",
      "2        6.0         11.0        10.0             8.0          8.0  \n",
      "\n",
      "[3 rows x 42 columns]\n",
      "<class 'pandas.core.frame.DataFrame'>\n",
      "RangeIndex: 183978 entries, 0 to 183977\n",
      "Data columns (total 42 columns):\n",
      " #   Column               Non-Null Count   Dtype  \n",
      "---  ------               --------------   -----  \n",
      " 0   id                   183978 non-null  int64  \n",
      " 1   player_fifa_api_id   183978 non-null  int64  \n",
      " 2   player_api_id        183978 non-null  int64  \n",
      " 3   date                 183978 non-null  object \n",
      " 4   overall_rating       183142 non-null  float64\n",
      " 5   potential            183142 non-null  float64\n",
      " 6   preferred_foot       183142 non-null  object \n",
      " 7   attacking_work_rate  180748 non-null  object \n",
      " 8   defensive_work_rate  183142 non-null  object \n",
      " 9   crossing             183142 non-null  float64\n",
      " 10  finishing            183142 non-null  float64\n",
      " 11  heading_accuracy     183142 non-null  float64\n",
      " 12  short_passing        183142 non-null  float64\n",
      " 13  volleys              181265 non-null  float64\n",
      " 14  dribbling            183142 non-null  float64\n",
      " 15  curve                181265 non-null  float64\n",
      " 16  free_kick_accuracy   183142 non-null  float64\n",
      " 17  long_passing         183142 non-null  float64\n",
      " 18  ball_control         183142 non-null  float64\n",
      " 19  acceleration         183142 non-null  float64\n",
      " 20  sprint_speed         183142 non-null  float64\n",
      " 21  agility              181265 non-null  float64\n",
      " 22  reactions            183142 non-null  float64\n",
      " 23  balance              181265 non-null  float64\n",
      " 24  shot_power           183142 non-null  float64\n",
      " 25  jumping              181265 non-null  float64\n",
      " 26  stamina              183142 non-null  float64\n",
      " 27  strength             183142 non-null  float64\n",
      " 28  long_shots           183142 non-null  float64\n",
      " 29  aggression           183142 non-null  float64\n",
      " 30  interceptions        183142 non-null  float64\n",
      " 31  positioning          183142 non-null  float64\n",
      " 32  vision               181265 non-null  float64\n",
      " 33  penalties            183142 non-null  float64\n",
      " 34  marking              183142 non-null  float64\n",
      " 35  standing_tackle      183142 non-null  float64\n",
      " 36  sliding_tackle       181265 non-null  float64\n",
      " 37  gk_diving            183142 non-null  float64\n",
      " 38  gk_handling          183142 non-null  float64\n",
      " 39  gk_kicking           183142 non-null  float64\n",
      " 40  gk_positioning       183142 non-null  float64\n",
      " 41  gk_reflexes          183142 non-null  float64\n",
      "dtypes: float64(35), int64(3), object(4)\n",
      "memory usage: 59.0+ MB\n",
      "\n",
      "The information of table\n",
      " None\n",
      "\n",
      "The describtion of table\n",
      "                  id  player_fifa_api_id  player_api_id  overall_rating  \\\n",
      "count  183978.00000       183978.000000  183978.000000   183142.000000   \n",
      "mean    91989.50000       165671.524291  135900.617324       68.600015   \n",
      "std     53110.01825        53851.094769  136927.840510        7.041139   \n",
      "min         1.00000            2.000000    2625.000000       33.000000   \n",
      "25%     45995.25000       155798.000000   34763.000000       64.000000   \n",
      "50%     91989.50000       183488.000000   77741.000000       69.000000   \n",
      "75%    137983.75000       199848.000000  191080.000000       73.000000   \n",
      "max    183978.00000       234141.000000  750584.000000       94.000000   \n",
      "\n",
      "           potential       crossing      finishing  heading_accuracy  \\\n",
      "count  183142.000000  183142.000000  183142.000000     183142.000000   \n",
      "mean       73.460353      55.086883      49.921078         57.266023   \n",
      "std         6.592271      17.242135      19.038705         16.488905   \n",
      "min        39.000000       1.000000       1.000000          1.000000   \n",
      "25%        69.000000      45.000000      34.000000         49.000000   \n",
      "50%        74.000000      59.000000      53.000000         60.000000   \n",
      "75%        78.000000      68.000000      65.000000         68.000000   \n",
      "max        97.000000      95.000000      97.000000         98.000000   \n",
      "\n",
      "       short_passing        volleys  ...         vision      penalties  \\\n",
      "count  183142.000000  181265.000000  ...  181265.000000  183142.000000   \n",
      "mean       62.429672      49.468436  ...      57.873550      55.003986   \n",
      "std        14.194068      18.256618  ...      15.144086      15.546519   \n",
      "min         3.000000       1.000000  ...       1.000000       2.000000   \n",
      "25%        57.000000      35.000000  ...      49.000000      45.000000   \n",
      "50%        65.000000      52.000000  ...      60.000000      57.000000   \n",
      "75%        72.000000      64.000000  ...      69.000000      67.000000   \n",
      "max        97.000000      93.000000  ...      97.000000      96.000000   \n",
      "\n",
      "             marking  standing_tackle  sliding_tackle      gk_diving  \\\n",
      "count  183142.000000    183142.000000   181265.000000  183142.000000   \n",
      "mean       46.772242        50.351257       48.001462      14.704393   \n",
      "std        21.227667        21.483706       21.598778      16.865467   \n",
      "min         1.000000         1.000000        2.000000       1.000000   \n",
      "25%        25.000000        29.000000       25.000000       7.000000   \n",
      "50%        50.000000        56.000000       53.000000      10.000000   \n",
      "75%        66.000000        69.000000       67.000000      13.000000   \n",
      "max        96.000000        95.000000       95.000000      94.000000   \n",
      "\n",
      "         gk_handling     gk_kicking  gk_positioning    gk_reflexes  \n",
      "count  183142.000000  183142.000000   183142.000000  183142.000000  \n",
      "mean       16.063612      20.998362       16.132154      16.441439  \n",
      "std        15.867382      21.452980       16.099175      17.198155  \n",
      "min         1.000000       1.000000        1.000000       1.000000  \n",
      "25%         8.000000       8.000000        8.000000       8.000000  \n",
      "50%        11.000000      12.000000       11.000000      11.000000  \n",
      "75%        15.000000      15.000000       15.000000      15.000000  \n",
      "max        93.000000      97.000000       96.000000      96.000000  \n",
      "\n",
      "[8 rows x 38 columns]\n",
      "\n",
      "The null count\n",
      " id                        0\n",
      "player_fifa_api_id        0\n",
      "player_api_id             0\n",
      "date                      0\n",
      "overall_rating          836\n",
      "potential               836\n",
      "preferred_foot          836\n",
      "attacking_work_rate    3230\n",
      "defensive_work_rate     836\n",
      "crossing                836\n",
      "finishing               836\n",
      "heading_accuracy        836\n",
      "short_passing           836\n",
      "volleys                2713\n",
      "dribbling               836\n",
      "curve                  2713\n",
      "free_kick_accuracy      836\n",
      "long_passing            836\n",
      "ball_control            836\n",
      "acceleration            836\n",
      "sprint_speed            836\n",
      "agility                2713\n",
      "reactions               836\n",
      "balance                2713\n",
      "shot_power              836\n",
      "jumping                2713\n",
      "stamina                 836\n",
      "strength                836\n",
      "long_shots              836\n",
      "aggression              836\n",
      "interceptions           836\n",
      "positioning             836\n",
      "vision                 2713\n",
      "penalties               836\n",
      "marking                 836\n",
      "standing_tackle         836\n",
      "sliding_tackle         2713\n",
      "gk_diving               836\n",
      "gk_handling             836\n",
      "gk_kicking              836\n",
      "gk_positioning          836\n",
      "gk_reflexes             836\n",
      "dtype: int64\n"
     ]
    }
   ],
   "source": [
    "player_attributes = pd.read_sql_query(\"SELECT * from Player_Attributes\",con)\n",
    "assess_table(player_attributes)"
   ]
  },
  {
   "cell_type": "code",
   "execution_count": 104,
   "metadata": {},
   "outputs": [
    {
     "data": {
      "text/plain": [
       "right    138409\n",
       "left      44733\n",
       "Name: preferred_foot, dtype: int64"
      ]
     },
     "execution_count": 104,
     "metadata": {},
     "output_type": "execute_result"
    }
   ],
   "source": [
    "player_attributes.preferred_foot .value_counts()      "
   ]
  },
  {
   "cell_type": "code",
   "execution_count": 105,
   "metadata": {},
   "outputs": [
    {
     "name": "stdout",
     "output_type": "stream",
     "text": [
      "The percentage of players who prefered right foot = 75.57469067717946 %\n",
      "The percentage of players who prefered left foot = 24.42530932282054 %\n"
     ]
    }
   ],
   "source": [
    "percentage_of_right = (138409*100)/(138409+44733)\n",
    "print('The percentage of players who prefered right foot =',percentage_of_right,\"%\")\n",
    "print('The percentage of players who prefered left foot =',100-percentage_of_right,\"%\")"
   ]
  },
  {
   "cell_type": "markdown",
   "metadata": {},
   "source": [
    "## Clean\n",
    "- Convert date type\n",
    "- Player_attributes need cleaning alot of columns have non-values "
   ]
  },
  {
   "cell_type": "code",
   "execution_count": 106,
   "metadata": {},
   "outputs": [],
   "source": [
    "Player_attributes_clean = player_attributes.copy()"
   ]
  },
  {
   "cell_type": "code",
   "execution_count": 107,
   "metadata": {},
   "outputs": [],
   "source": [
    "#Convert date type\n",
    "Player_attributes_clean['date'] = pd.to_datetime(Player_attributes_clean['date'])"
   ]
  },
  {
   "cell_type": "code",
   "execution_count": 108,
   "metadata": {},
   "outputs": [],
   "source": [
    "# Replace non-values with the mean of column\n",
    "Player_attributes_clean['overall_rating'].fillna((Player_attributes_clean['overall_rating'].mean()), inplace=True)\n"
   ]
  },
  {
   "cell_type": "code",
   "execution_count": 109,
   "metadata": {},
   "outputs": [],
   "source": [
    "#get float columns of player_attributes in df\n",
    "df = Player_attributes_clean.iloc[:,9:]\n",
    "\n",
    "df.insert(0,'overall_rating ', Player_attributes_clean['overall_rating'],allow_duplicates=False)\n",
    "df.insert(1,'potential ', Player_attributes_clean['potential'],allow_duplicates=False)"
   ]
  },
  {
   "cell_type": "code",
   "execution_count": 110,
   "metadata": {},
   "outputs": [
    {
     "data": {
      "text/plain": [
       "overall_rating        0\n",
       "potential             0\n",
       "crossing              0\n",
       "finishing             0\n",
       "heading_accuracy      0\n",
       "short_passing         0\n",
       "volleys               0\n",
       "dribbling             0\n",
       "curve                 0\n",
       "free_kick_accuracy    0\n",
       "long_passing          0\n",
       "ball_control          0\n",
       "acceleration          0\n",
       "sprint_speed          0\n",
       "agility               0\n",
       "reactions             0\n",
       "balance               0\n",
       "shot_power            0\n",
       "jumping               0\n",
       "stamina               0\n",
       "strength              0\n",
       "long_shots            0\n",
       "aggression            0\n",
       "interceptions         0\n",
       "positioning           0\n",
       "vision                0\n",
       "penalties             0\n",
       "marking               0\n",
       "standing_tackle       0\n",
       "sliding_tackle        0\n",
       "gk_diving             0\n",
       "gk_handling           0\n",
       "gk_kicking            0\n",
       "gk_positioning        0\n",
       "gk_reflexes           0\n",
       "dtype: int64"
      ]
     },
     "execution_count": 110,
     "metadata": {},
     "output_type": "execute_result"
    }
   ],
   "source": [
    "# Replace non-values with the mean of columns\n",
    "for column in df:\n",
    "    df[column].fillna(df[column].mean(), inplace = True)\n",
    "    \n",
    "df.isnull().sum()"
   ]
  },
  {
   "cell_type": "markdown",
   "metadata": {},
   "source": [
    "------------------------------"
   ]
  },
  {
   "cell_type": "markdown",
   "metadata": {},
   "source": [
    "# Exploratory Data Analysis"
   ]
  },
  {
   "cell_type": "code",
   "execution_count": 56,
   "metadata": {},
   "outputs": [
    {
     "data": {
      "text/html": [
       "<div>\n",
       "<style scoped>\n",
       "    .dataframe tbody tr th:only-of-type {\n",
       "        vertical-align: middle;\n",
       "    }\n",
       "\n",
       "    .dataframe tbody tr th {\n",
       "        vertical-align: top;\n",
       "    }\n",
       "\n",
       "    .dataframe thead th {\n",
       "        text-align: right;\n",
       "    }\n",
       "</style>\n",
       "<table border=\"1\" class=\"dataframe\">\n",
       "  <thead>\n",
       "    <tr style=\"text-align: right;\">\n",
       "      <th></th>\n",
       "      <th>league_name</th>\n",
       "      <th>home_team_goal</th>\n",
       "      <th>away_team_goal</th>\n",
       "      <th>season</th>\n",
       "    </tr>\n",
       "  </thead>\n",
       "  <tbody>\n",
       "    <tr>\n",
       "      <th>0</th>\n",
       "      <td>Belgium Jupiler League</td>\n",
       "      <td>1</td>\n",
       "      <td>1</td>\n",
       "      <td>2008/2009</td>\n",
       "    </tr>\n",
       "    <tr>\n",
       "      <th>1</th>\n",
       "      <td>Belgium Jupiler League</td>\n",
       "      <td>0</td>\n",
       "      <td>0</td>\n",
       "      <td>2008/2009</td>\n",
       "    </tr>\n",
       "    <tr>\n",
       "      <th>2</th>\n",
       "      <td>Belgium Jupiler League</td>\n",
       "      <td>0</td>\n",
       "      <td>3</td>\n",
       "      <td>2008/2009</td>\n",
       "    </tr>\n",
       "    <tr>\n",
       "      <th>3</th>\n",
       "      <td>Belgium Jupiler League</td>\n",
       "      <td>5</td>\n",
       "      <td>0</td>\n",
       "      <td>2008/2009</td>\n",
       "    </tr>\n",
       "    <tr>\n",
       "      <th>4</th>\n",
       "      <td>Belgium Jupiler League</td>\n",
       "      <td>1</td>\n",
       "      <td>3</td>\n",
       "      <td>2008/2009</td>\n",
       "    </tr>\n",
       "  </tbody>\n",
       "</table>\n",
       "</div>"
      ],
      "text/plain": [
       "              league_name  home_team_goal  away_team_goal     season\n",
       "0  Belgium Jupiler League               1               1  2008/2009\n",
       "1  Belgium Jupiler League               0               0  2008/2009\n",
       "2  Belgium Jupiler League               0               3  2008/2009\n",
       "3  Belgium Jupiler League               5               0  2008/2009\n",
       "4  Belgium Jupiler League               1               3  2008/2009"
      ]
     },
     "execution_count": 56,
     "metadata": {},
     "output_type": "execute_result"
    }
   ],
   "source": [
    "# join match and league in (league_name , home_team_goal   ,away_team_goal , season )\n",
    "Team_League = pd.read_sql(\"\"\"SELECT League.name as league_name   ,home_team_goal  ,away_team_goal ,season \n",
    "                                    FROM   League INNER JOIN Match \n",
    "                                    ON League.id = Match.league_id ;\"\"\",con)\n",
    "Team_League.head()   "
   ]
  },
  {
   "cell_type": "markdown",
   "metadata": {},
   "source": [
    "# What is the nuber of matchs in each league?"
   ]
  },
  {
   "cell_type": "code",
   "execution_count": 67,
   "metadata": {},
   "outputs": [
    {
     "data": {
      "image/png": "[encoded data removed]",
      "text/plain": [
       "<Figure size 432x288 with 1 Axes>"
      ]
     },
     "metadata": {
      "needs_background": "light"
     },
     "output_type": "display_data"
    }
   ],
   "source": [
    "Team_League['league_name'].value_counts().plot.bar()\n",
    "plt.xlabel(\"League\")\n",
    "plt.ylabel(\"Count\")\n",
    "plt.title(\"Number of matches in Leagues\")\n",
    "plt.show()"
   ]
  },
  {
   "cell_type": "markdown",
   "metadata": {},
   "source": [
    "# What is the nuber of matchs in each season?"
   ]
  },
  {
   "cell_type": "code",
   "execution_count": 68,
   "metadata": {},
   "outputs": [
    {
     "data": {
      "image/png": "[encoded data removed]",
      "text/plain": [
       "<Figure size 432x288 with 1 Axes>"
      ]
     },
     "metadata": {
      "needs_background": "light"
     },
     "output_type": "display_data"
    }
   ],
   "source": [
    "matchs['season'].value_counts().plot.bar()\n",
    "plt.xlabel(\"Season\")\n",
    "plt.ylabel(\"Count\")\n",
    "plt.title(\"Number of matches in Leagues\")\n",
    "plt.show()"
   ]
  },
  {
   "cell_type": "code",
   "execution_count": 71,
   "metadata": {},
   "outputs": [
    {
     "data": {
      "image/png": "[encoded data removed]",
      "text/plain": [
       "<Figure size 432x288 with 1 Axes>"
      ]
     },
     "metadata": {
      "needs_background": "light"
     },
     "output_type": "display_data"
    }
   ],
   "source": [
    "m1 = Team_League.home_team_goal.value_counts()\n",
    "m2 = Team_League.away_team_goal.value_counts()\n",
    "\n",
    "plt.bar(np.arange(len(m1)), m1, width=.5)\n",
    "plt.bar(np.arange(len(m2))+.3, m2, width=.55)\n",
    "plt.xlabel(\"Goals\")\n",
    "plt.ylabel(\"Count\")\n",
    "plt.title(\"Home team goals VS Away team goals \")\n",
    "\n",
    "plt.show()"
   ]
  },
  {
   "cell_type": "markdown",
   "metadata": {},
   "source": [
    "# Which player had the most penalties?"
   ]
  },
  {
   "cell_type": "code",
   "execution_count": 60,
   "metadata": {},
   "outputs": [
    {
     "data": {
      "text/html": [
       "<div>\n",
       "<style scoped>\n",
       "    .dataframe tbody tr th:only-of-type {\n",
       "        vertical-align: middle;\n",
       "    }\n",
       "\n",
       "    .dataframe tbody tr th {\n",
       "        vertical-align: top;\n",
       "    }\n",
       "\n",
       "    .dataframe thead th {\n",
       "        text-align: right;\n",
       "    }\n",
       "</style>\n",
       "<table border=\"1\" class=\"dataframe\">\n",
       "  <thead>\n",
       "    <tr style=\"text-align: right;\">\n",
       "      <th></th>\n",
       "      <th>player_name</th>\n",
       "      <th>penalties</th>\n",
       "    </tr>\n",
       "  </thead>\n",
       "  <tbody>\n",
       "    <tr>\n",
       "      <th>0</th>\n",
       "      <td>Aaron Appindangoye</td>\n",
       "      <td>48.0</td>\n",
       "    </tr>\n",
       "    <tr>\n",
       "      <th>1</th>\n",
       "      <td>Aaron Appindangoye</td>\n",
       "      <td>48.0</td>\n",
       "    </tr>\n",
       "    <tr>\n",
       "      <th>2</th>\n",
       "      <td>Aaron Appindangoye</td>\n",
       "      <td>48.0</td>\n",
       "    </tr>\n",
       "    <tr>\n",
       "      <th>3</th>\n",
       "      <td>Aaron Appindangoye</td>\n",
       "      <td>47.0</td>\n",
       "    </tr>\n",
       "    <tr>\n",
       "      <th>4</th>\n",
       "      <td>Aaron Appindangoye</td>\n",
       "      <td>47.0</td>\n",
       "    </tr>\n",
       "  </tbody>\n",
       "</table>\n",
       "</div>"
      ],
      "text/plain": [
       "          player_name  penalties\n",
       "0  Aaron Appindangoye       48.0\n",
       "1  Aaron Appindangoye       48.0\n",
       "2  Aaron Appindangoye       48.0\n",
       "3  Aaron Appindangoye       47.0\n",
       "4  Aaron Appindangoye       47.0"
      ]
     },
     "execution_count": 60,
     "metadata": {},
     "output_type": "execute_result"
    }
   ],
   "source": [
    "# join Player and Player_attributes in (player_name , penalties )\n",
    "player_penalties = pd.read_sql(\"\"\"SELECT Player.player_name ,Player_attributes.penalties  \n",
    "                                  FROM player INNER JOIN Player_attributes ON \n",
    "                                    player.player_api_id = Player_attributes.player_api_id ;\"\"\",con)\n",
    "player_penalties.head()  "
   ]
  },
  {
   "cell_type": "code",
   "execution_count": 61,
   "metadata": {},
   "outputs": [
    {
     "data": {
      "text/html": [
       "<div>\n",
       "<style scoped>\n",
       "    .dataframe tbody tr th:only-of-type {\n",
       "        vertical-align: middle;\n",
       "    }\n",
       "\n",
       "    .dataframe tbody tr th {\n",
       "        vertical-align: top;\n",
       "    }\n",
       "\n",
       "    .dataframe thead th {\n",
       "        text-align: right;\n",
       "    }\n",
       "</style>\n",
       "<table border=\"1\" class=\"dataframe\">\n",
       "  <thead>\n",
       "    <tr style=\"text-align: right;\">\n",
       "      <th></th>\n",
       "      <th>player_name</th>\n",
       "      <th>penalties</th>\n",
       "    </tr>\n",
       "  </thead>\n",
       "  <tbody>\n",
       "    <tr>\n",
       "      <th>149591</th>\n",
       "      <td>Rickie Lambert</td>\n",
       "      <td>96.0</td>\n",
       "    </tr>\n",
       "    <tr>\n",
       "      <th>149592</th>\n",
       "      <td>Rickie Lambert</td>\n",
       "      <td>96.0</td>\n",
       "    </tr>\n",
       "    <tr>\n",
       "      <th>149593</th>\n",
       "      <td>Rickie Lambert</td>\n",
       "      <td>96.0</td>\n",
       "    </tr>\n",
       "    <tr>\n",
       "      <th>149594</th>\n",
       "      <td>Rickie Lambert</td>\n",
       "      <td>96.0</td>\n",
       "    </tr>\n",
       "    <tr>\n",
       "      <th>12015</th>\n",
       "      <td>Andrea Pirlo</td>\n",
       "      <td>95.0</td>\n",
       "    </tr>\n",
       "    <tr>\n",
       "      <th>12016</th>\n",
       "      <td>Andrea Pirlo</td>\n",
       "      <td>95.0</td>\n",
       "    </tr>\n",
       "    <tr>\n",
       "      <th>113521</th>\n",
       "      <td>Mario Balotelli</td>\n",
       "      <td>95.0</td>\n",
       "    </tr>\n",
       "    <tr>\n",
       "      <th>113522</th>\n",
       "      <td>Mario Balotelli</td>\n",
       "      <td>95.0</td>\n",
       "    </tr>\n",
       "    <tr>\n",
       "      <th>113523</th>\n",
       "      <td>Mario Balotelli</td>\n",
       "      <td>95.0</td>\n",
       "    </tr>\n",
       "    <tr>\n",
       "      <th>113524</th>\n",
       "      <td>Mario Balotelli</td>\n",
       "      <td>95.0</td>\n",
       "    </tr>\n",
       "  </tbody>\n",
       "</table>\n",
       "</div>"
      ],
      "text/plain": [
       "            player_name  penalties\n",
       "149591   Rickie Lambert       96.0\n",
       "149592   Rickie Lambert       96.0\n",
       "149593   Rickie Lambert       96.0\n",
       "149594   Rickie Lambert       96.0\n",
       "12015      Andrea Pirlo       95.0\n",
       "12016      Andrea Pirlo       95.0\n",
       "113521  Mario Balotelli       95.0\n",
       "113522  Mario Balotelli       95.0\n",
       "113523  Mario Balotelli       95.0\n",
       "113524  Mario Balotelli       95.0"
      ]
     },
     "execution_count": 61,
     "metadata": {},
     "output_type": "execute_result"
    }
   ],
   "source": [
    "player_penalties.nlargest(10, ['penalties'])"
   ]
  },
  {
   "cell_type": "markdown",
   "metadata": {},
   "source": [
    "# What is the most age of players?"
   ]
  },
  {
   "cell_type": "code",
   "execution_count": 72,
   "metadata": {},
   "outputs": [
    {
     "data": {
      "image/png": "[encoded data removed]",
      "text/plain": [
       "<Figure size 432x288 with 1 Axes>"
      ]
     },
     "metadata": {
      "needs_background": "light"
     },
     "output_type": "display_data"
    }
   ],
   "source": [
    "clean_player['age'].value_counts(5).plot.bar(20)\n",
    "plt.xlabel('Age')\n",
    "plt.ylabel('Count')\n",
    "plt.title('Player age stage')\n",
    "plt.show()"
   ]
  },
  {
   "cell_type": "markdown",
   "metadata": {},
   "source": [
    "#### Conclusion\n",
    "- It seem that the most age is 28. "
   ]
  },
  {
   "cell_type": "markdown",
   "metadata": {},
   "source": [
    "# What the range of height and weight distribution?"
   ]
  },
  {
   "cell_type": "code",
   "execution_count": 73,
   "metadata": {},
   "outputs": [
    {
     "data": {
      "image/png": "[encoded data removed]",
      "text/plain": [
       "<Figure size 432x288 with 1 Axes>"
      ]
     },
     "metadata": {
      "needs_background": "light"
     },
     "output_type": "display_data"
    }
   ],
   "source": [
    "plt.hist('height', data=player, bins = 20)\n",
    "plt.xlabel('Heigt')\n",
    "plt.ylabel('Count')\n",
    "plt.title('Height Distribution of players')\n",
    "plt.show()"
   ]
  },
  {
   "cell_type": "code",
   "execution_count": 74,
   "metadata": {},
   "outputs": [
    {
     "data": {
      "image/png": "[encoded data removed]",
      "text/plain": [
       "<Figure size 432x288 with 1 Axes>"
      ]
     },
     "metadata": {
      "needs_background": "light"
     },
     "output_type": "display_data"
    }
   ],
   "source": [
    "plt.hist('weight', data=player, bins = 20)\n",
    "plt.xlabel('Weight')\n",
    "plt.ylabel('Count')\n",
    "plt.title('Weight Distribution of players')\n",
    "plt.show()"
   ]
  },
  {
   "cell_type": "code",
   "execution_count": 118,
   "metadata": {},
   "outputs": [
    {
     "data": {
      "image/png": "[encoded data removed]",
      "text/plain": [
       "<Figure size 432x288 with 1 Axes>"
      ]
     },
     "metadata": {
      "needs_background": "light"
     },
     "output_type": "display_data"
    }
   ],
   "source": [
    "player.plot('height' , 'weight')\n",
    "plt.title('Relation betwean Height & Weight')\n",
    "plt.show()"
   ]
  },
  {
   "cell_type": "markdown",
   "metadata": {},
   "source": [
    "# "
   ]
  },
  {
   "cell_type": "markdown",
   "metadata": {},
   "source": [
    "------------------------------------"
   ]
  },
  {
   "cell_type": "markdown",
   "metadata": {},
   "source": [
    "# Which foot is preferred by players? "
   ]
  },
  {
   "cell_type": "code",
   "execution_count": 75,
   "metadata": {},
   "outputs": [
    {
     "data": {
      "image/png": "[encoded data removed]",
      "text/plain": [
       "<Figure size 432x288 with 1 Axes>"
      ]
     },
     "metadata": {
      "needs_background": "light"
     },
     "output_type": "display_data"
    }
   ],
   "source": [
    "player_attributes.preferred_foot.value_counts().plot.bar() \n",
    "plt.xlabel(\"Preferred Foot\")\n",
    "plt.ylabel(\"Count\")\n",
    "plt.title(\"Right Vs Left Foot\")\n",
    "plt.show()"
   ]
  },
  {
   "cell_type": "markdown",
   "metadata": {},
   "source": [
    "----------------------------------------------------------------"
   ]
  },
  {
   "cell_type": "markdown",
   "metadata": {},
   "source": [
    "## Limitation\n",
    "- There are so many tables and some tables have so many fileds. Even after figuring out how to join and relate different tables, it was overwhelming and difficult to figure out what kind of questions can be asked using this data set.\n",
    "- A Lot of columns have missing values that make some analysis no perfect.\n",
    "- There is no the badget of teams that will help to predict that the team make a good deal with proffisonal players."
   ]
  },
  {
   "cell_type": "markdown",
   "metadata": {},
   "source": [
    "# Conclusions\n",
    "- The (Spanin , France , English , Italy) had the top number of matches.\n",
    "- The all seasos had almost the same number of matches\n",
    "- The player who had the most penaties is Rickie Lambert\n",
    "- The chance of away_team to win with (1 , 2) goals is more than home_team.    \n",
    "- The most age is 28. \n",
    "- The range player heitdth is betwean (175,190) cm.\n",
    "- The range player weitdth is betwean (150,185) ibs.\n",
    "- The relation betwean height and weight is linear.\n",
    "- The 75% of players preffered the Right foot."
   ]
  }
 ],
 "metadata": {
  "kernelspec": {
   "display_name": "Python 3",
   "language": "python",
   "name": "python3"
  },
  "language_info": {
   "codemirror_mode": {
    "name": "ipython",
    "version": 3
   },
   "file_extension": ".py",
   "mimetype": "text/x-python",
   "name": "python",
   "nbconvert_exporter": "python",
   "pygments_lexer": "ipython3",
   "version": "3.8.5"
  }
 },
 "nbformat": 4,
 "nbformat_minor": 4
}
